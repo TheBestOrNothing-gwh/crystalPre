{
 "cells": [
  {
   "cell_type": "code",
   "execution_count": 2,
   "metadata": {},
   "outputs": [
    {
     "name": "stdout",
     "output_type": "stream",
     "text": [
      "tensor([1, 2])\n"
     ]
    }
   ],
   "source": [
    "import torch \n",
    "\n",
    "a = torch.tensor([0, 1, 2, 3, 4, 5])\n",
    "b = torch.tensor([1, 2])\n",
    "print(a[b])"
   ]
  },
  {
   "cell_type": "code",
   "execution_count": 2,
   "metadata": {},
   "outputs": [
    {
     "name": "stdout",
     "output_type": "stream",
     "text": [
      "cpu\n",
      "cuda:0\n",
      "cuda:0\n"
     ]
    }
   ],
   "source": [
    "import torch\n",
    "\n",
    "a = torch.tensor([0, 1, 2])\n",
    "print(a.device)\n",
    "a = a.to(\"cuda:0\")\n",
    "print(a.device)\n",
    "b = a * 2\n",
    "print(b.device)\n"
   ]
  },
  {
   "cell_type": "code",
   "execution_count": 5,
   "metadata": {},
   "outputs": [
    {
     "name": "stdout",
     "output_type": "stream",
     "text": [
      "cuda:0\n"
     ]
    }
   ],
   "source": [
    "import torch\n",
    "\n",
    "a = torch.tensor([0, 1, 2, 3])\n",
    "b = torch.tensor([0, 2, 3])\n",
    "c = (a.to(\"cuda:0\"), b.to(\"cuda:0\"))\n",
    "print(c[1].device)"
   ]
  },
  {
   "cell_type": "code",
   "execution_count": 6,
   "metadata": {},
   "outputs": [
    {
     "name": "stdout",
     "output_type": "stream",
     "text": [
      "cuda:0\n"
     ]
    }
   ],
   "source": [
    "import torch\n",
    "a = torch.tensor([2]).to(\"cuda:0\")\n",
    "b = torch.tensor([3]).to(\"cuda:0\")\n",
    "c = a * b\n",
    "print(c.device)"
   ]
  },
  {
   "cell_type": "code",
   "execution_count": 4,
   "metadata": {},
   "outputs": [
    {
     "name": "stdout",
     "output_type": "stream",
     "text": [
      "<class 'collections.OrderedDict'>\n",
      "keys: mask\n",
      "keys: embedding.weight\n",
      "keys: embedding.bias\n",
      "keys: convs.0.fc_full.weight\n",
      "keys: convs.0.fc_full.bias\n",
      "keys: convs.0.bn1.weight\n",
      "keys: convs.0.bn1.bias\n",
      "keys: convs.0.bn1.running_mean\n",
      "keys: convs.0.bn1.running_var\n",
      "keys: convs.0.bn1.num_batches_tracked\n",
      "keys: convs.0.bn2.weight\n",
      "keys: convs.0.bn2.bias\n",
      "keys: convs.0.bn2.running_mean\n",
      "keys: convs.0.bn2.running_var\n",
      "keys: convs.0.bn2.num_batches_tracked\n",
      "keys: convs.1.fc_full.weight\n",
      "keys: convs.1.fc_full.bias\n",
      "keys: convs.1.bn1.weight\n",
      "keys: convs.1.bn1.bias\n",
      "keys: convs.1.bn1.running_mean\n",
      "keys: convs.1.bn1.running_var\n",
      "keys: convs.1.bn1.num_batches_tracked\n",
      "keys: convs.1.bn2.weight\n",
      "keys: convs.1.bn2.bias\n",
      "keys: convs.1.bn2.running_mean\n",
      "keys: convs.1.bn2.running_var\n",
      "keys: convs.1.bn2.num_batches_tracked\n",
      "keys: convs.2.fc_full.weight\n",
      "keys: convs.2.fc_full.bias\n",
      "keys: convs.2.bn1.weight\n",
      "keys: convs.2.bn1.bias\n",
      "keys: convs.2.bn1.running_mean\n",
      "keys: convs.2.bn1.running_var\n",
      "keys: convs.2.bn1.num_batches_tracked\n",
      "keys: convs.2.bn2.weight\n",
      "keys: convs.2.bn2.bias\n",
      "keys: convs.2.bn2.running_mean\n",
      "keys: convs.2.bn2.running_var\n",
      "keys: convs.2.bn2.num_batches_tracked\n",
      "keys: conv_to_fc.weight\n",
      "keys: conv_to_fc.bias\n",
      "keys: fc_out.weight\n",
      "keys: fc_out.bias\n"
     ]
    }
   ],
   "source": [
    "import torch \n",
    "from model import *\n",
    "\n",
    "model = CrystalGraphConvNet(\n",
    "        orig_atom_fea_len,\n",
    "        nbr_fea_len,\n",
    "        atom_fea_len=args.atom_fea_len,\n",
    "        n_conv=args.n_conv,\n",
    "        h_fea_len=args.h_fea_len,\n",
    "        n_h=args.n_h,\n",
    "        classification=False,\n",
    "    )\n",
    "print(type(model))\n",
    "for k, v in model.items():\n",
    "    print(\"keys: \" + k)\n"
   ]
  },
  {
   "cell_type": "code",
   "execution_count": 8,
   "metadata": {},
   "outputs": [
    {
     "name": "stdout",
     "output_type": "stream",
     "text": [
      "<class 'collections.OrderedDict'>\n",
      "keys: embedding.weight\n",
      "keys: convs.0.fc_full.weight\n",
      "keys: convs.0.fc_full.bias\n",
      "keys: convs.0.bn1.weight\n",
      "keys: convs.0.bn1.bias\n",
      "keys: convs.0.bn1.running_mean\n",
      "keys: convs.0.bn1.running_var\n",
      "keys: convs.0.bn1.num_batches_tracked\n",
      "keys: convs.0.bn2.weight\n",
      "keys: convs.0.bn2.bias\n",
      "keys: convs.0.bn2.running_mean\n",
      "keys: convs.0.bn2.running_var\n",
      "keys: convs.0.bn2.num_batches_tracked\n",
      "keys: convs.1.fc_full.weight\n",
      "keys: convs.1.fc_full.bias\n",
      "keys: convs.1.bn1.weight\n",
      "keys: convs.1.bn1.bias\n",
      "keys: convs.1.bn1.running_mean\n",
      "keys: convs.1.bn1.running_var\n",
      "keys: convs.1.bn1.num_batches_tracked\n",
      "keys: convs.1.bn2.weight\n",
      "keys: convs.1.bn2.bias\n",
      "keys: convs.1.bn2.running_mean\n",
      "keys: convs.1.bn2.running_var\n",
      "keys: convs.1.bn2.num_batches_tracked\n",
      "keys: convs.2.fc_full.weight\n",
      "keys: convs.2.fc_full.bias\n",
      "keys: convs.2.bn1.weight\n",
      "keys: convs.2.bn1.bias\n",
      "keys: convs.2.bn1.running_mean\n",
      "keys: convs.2.bn1.running_var\n",
      "keys: convs.2.bn1.num_batches_tracked\n",
      "keys: convs.2.bn2.weight\n",
      "keys: convs.2.bn2.bias\n",
      "keys: convs.2.bn2.running_mean\n",
      "keys: convs.2.bn2.running_var\n",
      "keys: convs.2.bn2.num_batches_tracked\n",
      "keys: fc0.weight\n",
      "keys: fc0.bias\n",
      "keys: fc_out.weight\n",
      "keys: fc_out.bias\n"
     ]
    }
   ],
   "source": [
    "import torch \n",
    "from model import *\n",
    "\n",
    "model = torch.load(\"/home/gwh/project/crystalProject/models/crystalPre/results/Prediction/2023-06-14/17:24:55.125553/models/best_model.pth\")\n",
    "print(type(model))\n",
    "for k, v in model.items():\n",
    "    print(\"keys: \" + k)\n"
   ]
  },
  {
   "cell_type": "code",
   "execution_count": null,
   "metadata": {},
   "outputs": [],
   "source": []
  }
 ],
 "metadata": {
  "kernelspec": {
   "display_name": "ocp-models",
   "language": "python",
   "name": "python3"
  },
  "language_info": {
   "codemirror_mode": {
    "name": "ipython",
    "version": 3
   },
   "file_extension": ".py",
   "mimetype": "text/x-python",
   "name": "python",
   "nbconvert_exporter": "python",
   "pygments_lexer": "ipython3",
   "version": "3.9.16"
  },
  "orig_nbformat": 4
 },
 "nbformat": 4,
 "nbformat_minor": 2
}
